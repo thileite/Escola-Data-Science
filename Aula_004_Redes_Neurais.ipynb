{
 "cells": [
  {
   "cell_type": "markdown",
   "metadata": {
    "colab_type": "text",
    "id": "lmHE3cU40ARW"
   },
   "source": [
    "<p align=\"center\"><img src=\"https://raw.githubusercontent.com/carlosfab/escola-data-science/master/img/eds.png\" height=\"100px\"></p>\n",
    "\n",
    "# Aula 004: Redes Neurais\n",
    "\n",
    "Redes neurais (NN) são os blocos construtores fundamentais do Deep Learning. Sua popularidade se dá devido a capacidade de lidar com problemas altamente complexos, onde algoritmos tradicionais não foram capazes de obter sucesso.\n",
    "\n",
    "Entre as principais aplicações das NN estão os carros autônomos, reconhecimento de objetos em imagens, tradução entre idiomas, legendas automáticas em vídeos, entre outras.\n",
    "\n",
    "<p align=\"center\"><img src=\"https://raw.githubusercontent.com/carlosfab/escola-data-science/master/img/human-neuron.png\" height=\"400px\"></p>\n",
    "\n",
    "Como foi mencionado na apresentação de slides, as NN são inspiradas neurônios biológicos da vida real, aqueles que temos no nosso próprio sistema nervoso - aproximadamente 10 bilhões.\n",
    "\n",
    "Cada um dos nossos neurônios está conectado a cerca de 10 mil outros neurônios. A comunicação entre esses neurônios ocorre por meio de impulsos captados pelos dendritos. Na sequência, esses impulsos são transmitidos pelo corpo do neurônio, por meio do axônio, até atingirem os dendritos de neurônios vizinhos através de sinapses.\n",
    "\n",
    "<p align=\"center\"><img src=\"https://raw.githubusercontent.com/carlosfab/escola-data-science/master/img/simple-nn.png\" height=\"300px\"></p>\n",
    "\n",
    "Se ficou difícil de imaginar esse paralelo entre o mundo real e artificial, veja a imagem abaixa comparando redes neurais biológicas e artificiais, bio-inspirados:\n",
    "\n",
    "<p align=\"center\"><img src=\"https://raw.githubusercontent.com/carlosfab/escola-data-science/master/img/comparativo_nn.png\" height=\"250px\"></p>\n",
    "\n",
    "Abandonando um pouco \n",
    "\n",
    "Em um NN artificial, recebem-se valores $x_1, x_2, x_3$, jutamente com uma constante conhecida como *bias*, que são multiplicados por pesos $w_1, w_2, w_3, w_4$ e somados. Por fim, essa soma passa por uma função de ativação, que irá fornecer o *output*.\n",
    "\n",
    "Matematicamente, a saída (*output*) da NN pode ser escrita de várias formas diferentes. Tipicamente você irá encontrar  a forma matemática, escrita como uma única equação:\n",
    "\n",
    "$$\n",
    "\\hat{y} = g \\left(w_0 + \\sum_{i=1}^{m} x_iw_i \\right) \\\\\n",
    "$$\n",
    "\n",
    "ou podemos escrever a mesma coisa usando a Algebra Linear em termos de vetores e produtos escalares:\n",
    "\n",
    "$$\n",
    "\\hat{y} = g \\left( w_0 + X^T W \\right) \\\\\n",
    "$$\n",
    "\n",
    "$$\n",
    "\\begin{equation}\n",
    "\\begin{aligned}\n",
    "X&=\n",
    "    \\begin{bmatrix}\n",
    "        x_1 \\\\ \\vdots \\\\ x_2\n",
    "    \\end{bmatrix} \n",
    "&&W=\n",
    "    \\begin{bmatrix}\n",
    "        w_1 \\\\ \\vdots \\\\ w_m\n",
    "    \\end{bmatrix} \\\\\n",
    "\\end{aligned}\n",
    "\\end{equation}\n",
    "$$"
   ]
  },
  {
   "cell_type": "markdown",
   "metadata": {
    "colab_type": "text",
    "id": "irZAhbxor1mV"
   },
   "source": [
    "### Um exemplo de Rede Neural simples\n",
    "\n",
    "Veja a imagem abaixo, onde temos uma NN que recebe dois *inputs* e fornece um resultado de saída.\n",
    "\n",
    "<p align=\"center\"><img src=\"https://raw.githubusercontent.com/carlosfab/escola-data-science/master/img/exemplo-nn.png\" height=\"250px\"></p>\n",
    "\n",
    "Nessa situação acima temos:\n",
    "\n",
    "$$\n",
    "\\begin{equation}\n",
    "\\begin{aligned}\n",
    "X&=\n",
    "    \\begin{bmatrix}\n",
    "        x_1 \\\\ x_2\n",
    "    \\end{bmatrix} \n",
    "&&W=\n",
    "    \\begin{bmatrix}\n",
    "        -2 \\\\ \\\\ 5\n",
    "    \\end{bmatrix}\n",
    "&&w_0=1\n",
    "\\end{aligned}\n",
    "\\end{equation}\n",
    "$$\n",
    "\n",
    "Matematicamente, o resultado final $\\hat{y}$ poderia ser escrito como $\\hat{y} = g(1 - 2x_1 +5x_2)$. No entanto, isso resolve apenas uma parte do problema.\n",
    "\n",
    "O poder do *Deep Learning* está em usar a não-lineariedade para resolver problemas complexos. É aí que entra a **função de ativação**, tema muito amplo (e que terá uma aula exclusiva para ele).\n",
    "\n",
    "Vamos apenas assumir que será usada a **função sigmoidal** (e sua curva ***sigmoidal***) para fornecer à nossa NN essa tal não-lineariedade.\n",
    "\n",
    "$$\n",
    "g(z) = \\sigma(z) = \\frac{1}{1 + e^{-z}}\n",
    "$$\n",
    "\n",
    "Não entendeu essa questão da lineariedade? \n",
    "\n",
    "Visualmente, veja na figura abaixo (extraída do MIT) como a parte linear $w_0 + \\sum_{i=1}^{m} x_iw_i$ da nossa equação não conseguiria separar corretamente as classes, não importando quantas camadas de neurônios existissem.\n",
    "\n",
    "<p align=\"center\"><img src=\"https://raw.githubusercontent.com/carlosfab/escola-data-science/master/img/linear-vs-nao-linear.png\" height=\"250px\"></p>\n",
    "\n",
    "Já quando você utiliza essa parte linear dentro de uma função de ativação $\\sigma(w_0 + \\sum_{i=1}^{m} x_iw_i)$, possibilita que esse tipo de curva não-linear possa ocorrer."
   ]
  },
  {
   "cell_type": "code",
   "execution_count": 3,
   "metadata": {
    "colab": {
     "base_uri": "https://localhost:8080/",
     "height": 35
    },
    "colab_type": "code",
    "id": "ph4QuYgt1C9c",
    "outputId": "15443416-76a9-4dff-8b42-f7a6ab9c63af"
   },
   "outputs": [],
   "source": [
    "# importar as bibliotecas necessárias\n",
    "import tensorflow as tf\n",
    "from tensorflow import keras\n",
    "import numpy as np\n",
    "import pandas as pd\n",
    "import matplotlib.pyplot as plt\n",
    "import seaborn as sns\n",
    "from sklearn.model_selection import train_test_split\n",
    "from sklearn.preprocessing import StandardScaler\n",
    "\n",
    "# configurações do notebook\n",
    "sns.set_style()\n",
    "\n",
    "# importar dataset simplificado (variáveis numéricas)\n",
    "from sklearn.datasets import fetch_california_housing"
   ]
  },
  {
   "cell_type": "code",
   "execution_count": 4,
   "metadata": {
    "colab": {
     "base_uri": "https://localhost:8080/",
     "height": 35
    },
    "colab_type": "code",
    "id": "SOyF91p524wq",
    "outputId": "11667094-d8cc-4691-95b7-49d21fa4f52a"
   },
   "outputs": [
    {
     "name": "stdout",
     "output_type": "stream",
     "text": [
      "2.543665647376276e-13\n"
     ]
    }
   ],
   "source": [
    "# exemplo dado na aula de rede neural:\n",
    "def sigmoid(x): \n",
    "    return 1.0/(1 + np.exp(-x))\n",
    "\n",
    "# valores de input\n",
    "x1 = 10\n",
    "x2 = -2\n",
    "\n",
    "# soma de w0 + X.W\n",
    "res = 1 -2*x1 + 5*x2\n",
    "\n",
    "# função de ativação sigmoid\n",
    "yhat = sigmoid(res)\n",
    "print(yhat)"
   ]
  },
  {
   "cell_type": "markdown",
   "metadata": {
    "colab_type": "text",
    "id": "PCxQBzJu6lpX"
   },
   "source": [
    "## Redes Neurais ao *dataset* imobiliário da California"
   ]
  },
  {
   "cell_type": "code",
   "execution_count": 5,
   "metadata": {
    "colab": {},
    "colab_type": "code",
    "id": "Nh4GhirYK5g0"
   },
   "outputs": [
    {
     "name": "stderr",
     "output_type": "stream",
     "text": [
      "Downloading Cal. housing from https://ndownloader.figshare.com/files/5976036 to C:\\Users\\thiag\\scikit_learn_data\n"
     ]
    }
   ],
   "source": [
    "# importar o dataset e lista com nomes das features\n",
    "dataset = fetch_california_housing()\n",
    "features = dataset.feature_names\n",
    "\n",
    "# dividir entre treino, validação e teste\n",
    "X_train_original, X_test, y_train_original, y_test = train_test_split(dataset.data, dataset.target)\n",
    "X_train, X_valid, y_train, y_valid = train_test_split(X_train_original, y_train_original)"
   ]
  },
  {
   "cell_type": "code",
   "execution_count": 7,
   "metadata": {
    "colab": {
     "base_uri": "https://localhost:8080/",
     "height": 204
    },
    "colab_type": "code",
    "id": "ECcHLMsGGRWV",
    "outputId": "0126dfd9-7543-49e8-853a-39619ae36bc2"
   },
   "outputs": [
    {
     "data": {
      "text/html": [
       "<div>\n",
       "<style scoped>\n",
       "    .dataframe tbody tr th:only-of-type {\n",
       "        vertical-align: middle;\n",
       "    }\n",
       "\n",
       "    .dataframe tbody tr th {\n",
       "        vertical-align: top;\n",
       "    }\n",
       "\n",
       "    .dataframe thead th {\n",
       "        text-align: right;\n",
       "    }\n",
       "</style>\n",
       "<table border=\"1\" class=\"dataframe\">\n",
       "  <thead>\n",
       "    <tr style=\"text-align: right;\">\n",
       "      <th></th>\n",
       "      <th>MedInc</th>\n",
       "      <th>HouseAge</th>\n",
       "      <th>AveRooms</th>\n",
       "      <th>AveBedrms</th>\n",
       "      <th>Population</th>\n",
       "      <th>AveOccup</th>\n",
       "      <th>Latitude</th>\n",
       "      <th>Longitude</th>\n",
       "    </tr>\n",
       "  </thead>\n",
       "  <tbody>\n",
       "    <tr>\n",
       "      <th>0</th>\n",
       "      <td>5.7881</td>\n",
       "      <td>28.0</td>\n",
       "      <td>6.068293</td>\n",
       "      <td>0.965854</td>\n",
       "      <td>1190.0</td>\n",
       "      <td>2.902439</td>\n",
       "      <td>37.34</td>\n",
       "      <td>-122.02</td>\n",
       "    </tr>\n",
       "    <tr>\n",
       "      <th>1</th>\n",
       "      <td>3.7462</td>\n",
       "      <td>15.0</td>\n",
       "      <td>4.900314</td>\n",
       "      <td>0.999215</td>\n",
       "      <td>3163.0</td>\n",
       "      <td>2.482732</td>\n",
       "      <td>37.59</td>\n",
       "      <td>-122.05</td>\n",
       "    </tr>\n",
       "    <tr>\n",
       "      <th>2</th>\n",
       "      <td>4.3214</td>\n",
       "      <td>37.0</td>\n",
       "      <td>5.151394</td>\n",
       "      <td>0.986056</td>\n",
       "      <td>1208.0</td>\n",
       "      <td>2.406375</td>\n",
       "      <td>37.46</td>\n",
       "      <td>-122.22</td>\n",
       "    </tr>\n",
       "    <tr>\n",
       "      <th>3</th>\n",
       "      <td>3.0938</td>\n",
       "      <td>35.0</td>\n",
       "      <td>5.597911</td>\n",
       "      <td>1.013055</td>\n",
       "      <td>1003.0</td>\n",
       "      <td>2.618799</td>\n",
       "      <td>32.75</td>\n",
       "      <td>-117.05</td>\n",
       "    </tr>\n",
       "    <tr>\n",
       "      <th>4</th>\n",
       "      <td>1.8007</td>\n",
       "      <td>37.0</td>\n",
       "      <td>4.937050</td>\n",
       "      <td>1.057554</td>\n",
       "      <td>1607.0</td>\n",
       "      <td>2.890288</td>\n",
       "      <td>38.53</td>\n",
       "      <td>-121.46</td>\n",
       "    </tr>\n",
       "  </tbody>\n",
       "</table>\n",
       "</div>"
      ],
      "text/plain": [
       "   MedInc  HouseAge  AveRooms  AveBedrms  Population  AveOccup  Latitude  \\\n",
       "0  5.7881      28.0  6.068293   0.965854      1190.0  2.902439     37.34   \n",
       "1  3.7462      15.0  4.900314   0.999215      3163.0  2.482732     37.59   \n",
       "2  4.3214      37.0  5.151394   0.986056      1208.0  2.406375     37.46   \n",
       "3  3.0938      35.0  5.597911   1.013055      1003.0  2.618799     32.75   \n",
       "4  1.8007      37.0  4.937050   1.057554      1607.0  2.890288     38.53   \n",
       "\n",
       "   Longitude  \n",
       "0    -122.02  \n",
       "1    -122.05  \n",
       "2    -122.22  \n",
       "3    -117.05  \n",
       "4    -121.46  "
      ]
     },
     "execution_count": 7,
     "metadata": {},
     "output_type": "execute_result"
    }
   ],
   "source": [
    "# ver como ficaria em formato de DataFrame\n",
    "df = pd.DataFrame(X_train)\n",
    "df.columns = features\n",
    "df.head()"
   ]
  },
  {
   "cell_type": "code",
   "execution_count": 8,
   "metadata": {
    "colab": {},
    "colab_type": "code",
    "id": "sEbqJIGGGg7u"
   },
   "outputs": [],
   "source": [
    "# padronizar os dados com StandardScaler por causa do Gradient Descent\n",
    "scaler = StandardScaler()\n",
    "X_train = scaler.fit_transform(X_train)\n",
    "X_test = scaler.transform(X_test)\n",
    "X_valid = scaler.transform(X_valid)"
   ]
  },
  {
   "cell_type": "code",
   "execution_count": 9,
   "metadata": {
    "colab": {
     "base_uri": "https://localhost:8080/",
     "height": 204
    },
    "colab_type": "code",
    "id": "YKKeXLa1OIv0",
    "outputId": "a8823962-bfd6-40f0-d782-9a1db5e11469"
   },
   "outputs": [
    {
     "data": {
      "text/html": [
       "<div>\n",
       "<style scoped>\n",
       "    .dataframe tbody tr th:only-of-type {\n",
       "        vertical-align: middle;\n",
       "    }\n",
       "\n",
       "    .dataframe tbody tr th {\n",
       "        vertical-align: top;\n",
       "    }\n",
       "\n",
       "    .dataframe thead th {\n",
       "        text-align: right;\n",
       "    }\n",
       "</style>\n",
       "<table border=\"1\" class=\"dataframe\">\n",
       "  <thead>\n",
       "    <tr style=\"text-align: right;\">\n",
       "      <th></th>\n",
       "      <th>0</th>\n",
       "      <th>1</th>\n",
       "      <th>2</th>\n",
       "      <th>3</th>\n",
       "      <th>4</th>\n",
       "      <th>5</th>\n",
       "      <th>6</th>\n",
       "      <th>7</th>\n",
       "    </tr>\n",
       "  </thead>\n",
       "  <tbody>\n",
       "    <tr>\n",
       "      <th>0</th>\n",
       "      <td>1.001041</td>\n",
       "      <td>-0.049074</td>\n",
       "      <td>0.240627</td>\n",
       "      <td>-0.280821</td>\n",
       "      <td>-0.200807</td>\n",
       "      <td>-0.018787</td>\n",
       "      <td>0.795760</td>\n",
       "      <td>-1.226662</td>\n",
       "    </tr>\n",
       "    <tr>\n",
       "      <th>1</th>\n",
       "      <td>-0.066439</td>\n",
       "      <td>-1.086003</td>\n",
       "      <td>-0.213529</td>\n",
       "      <td>-0.210309</td>\n",
       "      <td>1.484312</td>\n",
       "      <td>-0.099169</td>\n",
       "      <td>0.912299</td>\n",
       "      <td>-1.241637</td>\n",
       "    </tr>\n",
       "    <tr>\n",
       "      <th>2</th>\n",
       "      <td>0.234269</td>\n",
       "      <td>0.668799</td>\n",
       "      <td>-0.115899</td>\n",
       "      <td>-0.238122</td>\n",
       "      <td>-0.185433</td>\n",
       "      <td>-0.113793</td>\n",
       "      <td>0.851699</td>\n",
       "      <td>-1.326499</td>\n",
       "    </tr>\n",
       "    <tr>\n",
       "      <th>3</th>\n",
       "      <td>-0.407505</td>\n",
       "      <td>0.509272</td>\n",
       "      <td>0.057725</td>\n",
       "      <td>-0.181057</td>\n",
       "      <td>-0.360522</td>\n",
       "      <td>-0.073110</td>\n",
       "      <td>-1.343893</td>\n",
       "      <td>1.254310</td>\n",
       "    </tr>\n",
       "    <tr>\n",
       "      <th>4</th>\n",
       "      <td>-1.083522</td>\n",
       "      <td>0.668799</td>\n",
       "      <td>-0.199244</td>\n",
       "      <td>-0.087003</td>\n",
       "      <td>0.155348</td>\n",
       "      <td>-0.021114</td>\n",
       "      <td>1.350485</td>\n",
       "      <td>-0.947115</td>\n",
       "    </tr>\n",
       "  </tbody>\n",
       "</table>\n",
       "</div>"
      ],
      "text/plain": [
       "          0         1         2         3         4         5         6  \\\n",
       "0  1.001041 -0.049074  0.240627 -0.280821 -0.200807 -0.018787  0.795760   \n",
       "1 -0.066439 -1.086003 -0.213529 -0.210309  1.484312 -0.099169  0.912299   \n",
       "2  0.234269  0.668799 -0.115899 -0.238122 -0.185433 -0.113793  0.851699   \n",
       "3 -0.407505  0.509272  0.057725 -0.181057 -0.360522 -0.073110 -1.343893   \n",
       "4 -1.083522  0.668799 -0.199244 -0.087003  0.155348 -0.021114  1.350485   \n",
       "\n",
       "          7  \n",
       "0 -1.226662  \n",
       "1 -1.241637  \n",
       "2 -1.326499  \n",
       "3  1.254310  \n",
       "4 -0.947115  "
      ]
     },
     "execution_count": 9,
     "metadata": {},
     "output_type": "execute_result"
    }
   ],
   "source": [
    "# ver o dataset padronizado\n",
    "pd.DataFrame(X_train).head()"
   ]
  },
  {
   "cell_type": "code",
   "execution_count": 10,
   "metadata": {
    "colab": {
     "base_uri": "https://localhost:8080/",
     "height": 1000
    },
    "colab_type": "code",
    "id": "bGNAfFA2Gw3n",
    "outputId": "893398e8-df6d-42f9-f572-8467a2b250fb"
   },
   "outputs": [
    {
     "name": "stdout",
     "output_type": "stream",
     "text": [
      "WARNING:tensorflow:From C:\\Users\\thiag\\Anaconda3\\lib\\site-packages\\tensorflow\\python\\ops\\resource_variable_ops.py:435: colocate_with (from tensorflow.python.framework.ops) is deprecated and will be removed in a future version.\n",
      "Instructions for updating:\n",
      "Colocations handled automatically by placer.\n",
      "WARNING:tensorflow:From C:\\Users\\thiag\\Anaconda3\\lib\\site-packages\\tensorflow\\python\\keras\\utils\\losses_utils.py:170: to_float (from tensorflow.python.ops.math_ops) is deprecated and will be removed in a future version.\n",
      "Instructions for updating:\n",
      "Use tf.cast instead.\n",
      "Train on 11610 samples, validate on 3870 samples\n",
      "WARNING:tensorflow:From C:\\Users\\thiag\\Anaconda3\\lib\\site-packages\\tensorflow\\python\\ops\\math_ops.py:3066: to_int32 (from tensorflow.python.ops.math_ops) is deprecated and will be removed in a future version.\n",
      "Instructions for updating:\n",
      "Use tf.cast instead.\n",
      "Epoch 1/50\n",
      "11610/11610 [==============================] - 1s 75us/sample - loss: 0.8375 - val_loss: 1.5257\n",
      "Epoch 2/50\n",
      "11610/11610 [==============================] - 0s 35us/sample - loss: 0.7109 - val_loss: 0.4337\n",
      "Epoch 3/50\n",
      "11610/11610 [==============================] - 0s 35us/sample - loss: 0.4293 - val_loss: 0.4132\n",
      "Epoch 4/50\n",
      "11610/11610 [==============================] - 0s 35us/sample - loss: 0.4096 - val_loss: 0.4066\n",
      "Epoch 5/50\n",
      "11610/11610 [==============================] - 0s 34us/sample - loss: 0.3984 - val_loss: 0.4016\n",
      "Epoch 6/50\n",
      "11610/11610 [==============================] - 0s 34us/sample - loss: 0.3914 - val_loss: 0.3963\n",
      "Epoch 7/50\n",
      "11610/11610 [==============================] - 0s 34us/sample - loss: 0.3849 - val_loss: 0.3964\n",
      "Epoch 8/50\n",
      "11610/11610 [==============================] - 0s 34us/sample - loss: 0.3855 - val_loss: 0.3930\n",
      "Epoch 9/50\n",
      "11610/11610 [==============================] - 0s 35us/sample - loss: 0.3768 - val_loss: 0.3912\n",
      "Epoch 10/50\n",
      "11610/11610 [==============================] - 0s 35us/sample - loss: 0.3741 - val_loss: 0.3854\n",
      "Epoch 11/50\n",
      "11610/11610 [==============================] - 0s 34us/sample - loss: 0.3713 - val_loss: 0.3873\n",
      "Epoch 12/50\n",
      "11610/11610 [==============================] - 0s 34us/sample - loss: 0.3718 - val_loss: 0.3815\n",
      "Epoch 13/50\n",
      "11610/11610 [==============================] - 0s 34us/sample - loss: 0.3677 - val_loss: 0.3799\n",
      "Epoch 14/50\n",
      "11610/11610 [==============================] - 0s 35us/sample - loss: 0.3641 - val_loss: 0.3791\n",
      "Epoch 15/50\n",
      "11610/11610 [==============================] - 0s 37us/sample - loss: 0.3623 - val_loss: 0.3802\n",
      "Epoch 16/50\n",
      "11610/11610 [==============================] - 0s 36us/sample - loss: 0.3583 - val_loss: 0.3793\n",
      "Epoch 17/50\n",
      "11610/11610 [==============================] - 0s 40us/sample - loss: 0.3572 - val_loss: 0.3760\n",
      "Epoch 18/50\n",
      "11610/11610 [==============================] - 1s 44us/sample - loss: 0.3584 - val_loss: 0.3786\n",
      "Epoch 19/50\n",
      "11610/11610 [==============================] - 0s 42us/sample - loss: 0.3534 - val_loss: 0.3713\n",
      "Epoch 20/50\n",
      "11610/11610 [==============================] - 0s 37us/sample - loss: 0.3534 - val_loss: 0.3664\n",
      "Epoch 21/50\n",
      "11610/11610 [==============================] - 0s 36us/sample - loss: 0.3484 - val_loss: 0.3661\n",
      "Epoch 22/50\n",
      "11610/11610 [==============================] - 1s 43us/sample - loss: 0.3464 - val_loss: 0.3618\n",
      "Epoch 23/50\n",
      "11610/11610 [==============================] - 1s 44us/sample - loss: 0.3484 - val_loss: 0.3624\n",
      "Epoch 24/50\n",
      "11610/11610 [==============================] - 1s 44us/sample - loss: 0.3421 - val_loss: 0.3616\n",
      "Epoch 25/50\n",
      "11610/11610 [==============================] - 0s 33us/sample - loss: 0.3453 - val_loss: 0.3564\n",
      "Epoch 26/50\n",
      "11610/11610 [==============================] - 0s 36us/sample - loss: 0.3387 - val_loss: 0.3625\n",
      "Epoch 27/50\n",
      "11610/11610 [==============================] - 0s 42us/sample - loss: 0.3375 - val_loss: 0.3565\n",
      "Epoch 28/50\n",
      "11610/11610 [==============================] - 0s 34us/sample - loss: 0.3358 - val_loss: 0.3532\n",
      "Epoch 29/50\n",
      "11610/11610 [==============================] - 0s 34us/sample - loss: 0.3342 - val_loss: 0.3560\n",
      "Epoch 30/50\n",
      "11610/11610 [==============================] - 0s 34us/sample - loss: 0.3321 - val_loss: 0.3587\n",
      "Epoch 31/50\n",
      "11610/11610 [==============================] - 0s 34us/sample - loss: 0.3389 - val_loss: 0.3503\n",
      "Epoch 32/50\n",
      "11610/11610 [==============================] - 0s 35us/sample - loss: 0.3286 - val_loss: 0.3512\n",
      "Epoch 33/50\n",
      "11610/11610 [==============================] - 0s 34us/sample - loss: 0.3279 - val_loss: 0.3525\n",
      "Epoch 34/50\n",
      "11610/11610 [==============================] - 0s 35us/sample - loss: 0.3264 - val_loss: 0.3463\n",
      "Epoch 35/50\n",
      "11610/11610 [==============================] - 0s 35us/sample - loss: 0.3304 - val_loss: 0.3505\n",
      "Epoch 36/50\n",
      "11610/11610 [==============================] - 0s 34us/sample - loss: 0.3266 - val_loss: 0.3597\n",
      "Epoch 37/50\n",
      "11610/11610 [==============================] - 0s 34us/sample - loss: 0.3287 - val_loss: 0.3423\n",
      "Epoch 38/50\n",
      "11610/11610 [==============================] - 0s 35us/sample - loss: 0.3267 - val_loss: 0.3437\n",
      "Epoch 39/50\n",
      "11610/11610 [==============================] - 0s 35us/sample - loss: 0.3222 - val_loss: 0.3421\n",
      "Epoch 40/50\n",
      "11610/11610 [==============================] - 0s 34us/sample - loss: 0.3304 - val_loss: 0.3432\n",
      "Epoch 41/50\n",
      "11610/11610 [==============================] - 0s 34us/sample - loss: 0.3284 - val_loss: 0.3515\n",
      "Epoch 42/50\n",
      "11610/11610 [==============================] - 0s 34us/sample - loss: 0.3251 - val_loss: 0.3457\n",
      "Epoch 43/50\n",
      "11610/11610 [==============================] - 0s 34us/sample - loss: 0.3234 - val_loss: 0.3424\n",
      "Epoch 44/50\n",
      "11610/11610 [==============================] - 0s 34us/sample - loss: 0.3175 - val_loss: 0.3442\n",
      "Epoch 45/50\n",
      "11610/11610 [==============================] - 0s 34us/sample - loss: 0.3185 - val_loss: 0.3389\n",
      "Epoch 46/50\n",
      "11610/11610 [==============================] - 0s 34us/sample - loss: 0.3175 - val_loss: 0.3453\n",
      "Epoch 47/50\n",
      "11610/11610 [==============================] - 0s 34us/sample - loss: 0.3163 - val_loss: 0.3407\n",
      "Epoch 48/50\n",
      "11610/11610 [==============================] - 0s 35us/sample - loss: 0.3174 - val_loss: 0.3395\n",
      "Epoch 49/50\n",
      "11610/11610 [==============================] - 0s 35us/sample - loss: 0.3191 - val_loss: 0.3400\n",
      "Epoch 50/50\n",
      "11610/11610 [==============================] - 0s 35us/sample - loss: 0.3162 - val_loss: 0.3476\n",
      "5160/5160 [==============================] - 0s 15us/sample - loss: 0.3266\n"
     ]
    }
   ],
   "source": [
    "# construir uma nn\n",
    "model = keras.models.Sequential(\n",
    "    [\n",
    "     keras.layers.Dense(30, activation='relu', input_shape=(X_train.shape[1:])),\n",
    "     keras.layers.Dense(1)\n",
    "    ]\n",
    ")\n",
    "\n",
    "# compilar a nn \n",
    "model.compile(loss='mean_squared_error', optimizer='sgd')\n",
    "\n",
    "# obter o histórico de loss\n",
    "history = model.fit(X_train, y_train, epochs=50, validation_data=(X_valid, y_valid))\n",
    "\n",
    "# verificar o MSE\n",
    "error = model.evaluate(X_test, y_test)"
   ]
  },
  {
   "cell_type": "code",
   "execution_count": 11,
   "metadata": {
    "colab": {
     "base_uri": "https://localhost:8080/",
     "height": 35
    },
    "colab_type": "code",
    "id": "iUuyh8wIHyMK",
    "outputId": "bfa12515-12d8-48ff-b748-45e82ca70afd"
   },
   "outputs": [
    {
     "data": {
      "text/plain": [
       "array([[3.043561]], dtype=float32)"
      ]
     },
     "execution_count": 11,
     "metadata": {},
     "output_type": "execute_result"
    }
   ],
   "source": [
    "# fazer uma nova previsão \n",
    "new_house = X_train[0].reshape(1,-1)\n",
    "model.predict(new_house)"
   ]
  },
  {
   "cell_type": "code",
   "execution_count": 12,
   "metadata": {
    "colab": {
     "base_uri": "https://localhost:8080/",
     "height": 265
    },
    "colab_type": "code",
    "id": "QgKybZ0t7bQT",
    "outputId": "f1546fed-d60c-46cd-887f-1e2e0d8c12a9"
   },
   "outputs": [
    {
     "data": {
      "image/png": "[encoded data removed]",
      "text/plain": [
       "<Figure size 432x288 with 1 Axes>"
      ]
     },
     "metadata": {
      "needs_background": "light"
     },
     "output_type": "display_data"
    }
   ],
   "source": [
    "# plotar historico \n",
    "pd.DataFrame(history.history).plot();"
   ]
  },
  {
   "cell_type": "code",
   "execution_count": null,
   "metadata": {
    "colab": {},
    "colab_type": "code",
    "id": "KQOtzc4i8Pml"
   },
   "outputs": [],
   "source": []
  },
  {
   "cell_type": "code",
   "execution_count": null,
   "metadata": {},
   "outputs": [],
   "source": []
  }
 ],
 "metadata": {
  "colab": {
   "name": "Aula 004: Redes Neurais.ipynb",
   "provenance": []
  },
  "kernelspec": {
   "display_name": "Python 3",
   "language": "python",
   "name": "python3"
  },
  "language_info": {
   "codemirror_mode": {
    "name": "ipython",
    "version": 3
   },
   "file_extension": ".py",
   "mimetype": "text/x-python",
   "name": "python",
   "nbconvert_exporter": "python",
   "pygments_lexer": "ipython3",
   "version": "3.7.1"
  }
 },
 "nbformat": 4,
 "nbformat_minor": 1
}
