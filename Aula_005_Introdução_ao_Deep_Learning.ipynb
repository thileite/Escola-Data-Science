{
  "nbformat": 4,
  "nbformat_minor": 0,
  "metadata": {
    "colab": {
      "name": "Aula 005: Introdução ao Deep Learning.ipynb",
      "provenance": [],
      "collapsed_sections": []
    },
    "kernelspec": {
      "name": "python3",
      "display_name": "Python 3"
    }
  },
  "cells": [
    {
      "cell_type": "markdown",
      "metadata": {
        "id": "lmHE3cU40ARW",
        "colab_type": "text"
      },
      "source": [
        "<p align=\"center\"><img src=\"https://raw.githubusercontent.com/carlosfab/escola-data-science/master/img/eds.png\" height=\"100px\"></p>\n",
        "\n",
        "# Aula 005: Introdução ao Deep Learning\n",
        "\n",
        "Nesta aula começaremos a falar sobre os princípios do Deep Learning, passando pelos conceitos de Modelos Paramétricos, Regressão Logística (com perspectiva de *deep learning*), *score function* e entender como uma rede neural é capaz de classificar uma imagem.\n",
        "\n",
        "Na próxima aula iremos entrar em cost function e um algoritmo conhecido como ***Gradient Descente*** **(GD)** -  a cereja do bolo!\n",
        "\n",
        "Para você ter uma ideia a respeito da motivação em aprendê-lo, veja o que diz *Goodfellow et al (2016)*  em seu livro *Deep Learning*, referência em referência absoluta na área:\n",
        "\n",
        "\n",
        "> *Praticamente, tudo que se chama deep learning é movido por um algoritmo muito importante: Stochastic Gradient Descent (SGD).*\n",
        "\n",
        "Mas antes de entrar no SGD diretamente, vamos dar uma olhada em alguns conceitos primários.\n",
        "\n",
        "\n",
        "\n"
      ]
    },
    {
      "cell_type": "markdown",
      "metadata": {
        "id": "Ub1ehmI7hKlB",
        "colab_type": "text"
      },
      "source": [
        "## Modelos Paramétricos\n",
        "\n",
        "Um modelo de *machine learning* tem a capacidade de aprender padrões a partir de dados de *input* durante uma etapa conhecida como treinamento. \n",
        "\n",
        "Esse modelo é representado não por todos os dados que o alimentam, mas por um número limitado de parâmetros. Ou seja, independente do tamanho do meus dados de treino, é possível **generalizar**, representar os mesmos por meio de parâmetros.\n",
        "\n",
        "\n",
        "<p align=\"center\">\n",
        "<img height=\"500\" src=\"https://raw.githubusercontent.com/carlosfab/escola-data-science/master/img/classificacao-anvs.png\">\n",
        "</p>\n",
        "\n",
        "Considere que você queira treinar um modelo de *deep learning* para reconhecer se há uma aeronave em uma imagem. As seguintes classificações são possíveis:\n",
        "\n",
        "* **1:** Quando é detectada uma aeronave na imagem; e \n",
        "* **2:** Quando não é detectada uma aeronave na imagem.\n",
        "\n",
        "Basicamente, as imagens normais que usaremos é composta por 3 canais de cores (RGB). Se formos olhar mais de perto, veremos temos 3 matrizes (uma para cada canal) e que cada pixel é representado por um número entre $0-255$.\n",
        "\n",
        "<p align=\"center\">\n",
        "<img height=\"350\" src=\"https://raw.githubusercontent.com/carlosfab/escola-data-science/master/img/anv-rgb.png\">\n",
        "</p>\n",
        "\n",
        "## Classificação Binária \n",
        "\n",
        "Claramente, nós seres humanos podemos identificar que existe algum tipo de padrão que faz com que nosso cérebro reconheça rapidamente se uma imagem é um avião ou não. Trazendo para o lado da matemática, assuma que existe uma função $y = f^{*}(x)$ que mapeia o nosso *input* $x$ para uma categoria $y \\in \\{0, 1 \\}$.\n",
        "\n",
        "A imagem do caça acima tem dimensões iguais a $64 \\times 64$ *pixels*. No lugar de termos 3 matrizes  $64 \\times 64$ *pixels*, podemos gerar um vetor $x$ único contendo todos seus valores:\n",
        "\n",
        "$$\n",
        "\\begin{equation}\n",
        "\\begin{aligned}\n",
        "x&=\n",
        "    \\begin{bmatrix}\n",
        "        123 \\\\ 250 \\\\ \\vdots \\\\ 70 \\\\ 100 \\\\ \\vdots \\\\130\n",
        "    \\end{bmatrix} \n",
        "&&n_x = 64 \\times 64 \\times 3 = 12288\n",
        "\\end{aligned}\n",
        "\\end{equation}\n",
        "$$\n",
        "\n",
        "Dependendo a literatura adotada, você vai ter notações matemáticas e teóricas divergentes. Essas divergências podem ser puramente relacionadas aos símbolos e letras convencionadas ou em algum conceito.\n",
        "\n",
        "Também não é minha ideia mergulhar fundo nessa parte mais matemática, então resolvi simplificar o que poderia ser simplificado (com menos rigor acadêmico), mas sem perder a essência. Vamos ver as convenções e notações que eu irei usar.\n",
        "\n",
        "* Uma única amostra de treino é representado pela tupla:\n",
        "\n",
        "$$\n",
        "\\begin{align}\n",
        "(x, y) && onde && x& \\in \\rm I\\!R^{n_x}, \\\\\n",
        "&& && y& \\in \\{0, 1\\}\n",
        "\\end{align}\n",
        "$$\n",
        "\n",
        "* Para um conjunto de $m$ amostras de treinamento:\n",
        "\n",
        "$$\n",
        "m\\text{-amostras: } \\{ (x^{(1)}, y^{(1)}), (x^{(2)}, y^{(2)}), \\dots, (x^{(m)}, y^{(m)}) \\}\n",
        "$$\n",
        "\n",
        "Essa notação acima é muito didática, porém você também consegue representar a mesma coisa, porém de forma mais compacta usando a notação da Álgebra Linear. Veja como eu represento matricialmente um conjunto de dados de treino contendo $m$ amostras diferentes.\n",
        "\n",
        "$$\n",
        "\\begin{aligned}\n",
        "X&=\n",
        "\\begin{bmatrix}\n",
        "    \\bigg\\rvert & \\bigg\\rvert &  & \\bigg\\rvert \\\\\n",
        "    x^{(1)} & x^{(2)} & \\dots & x^{(m)} \\\\\n",
        "    \\bigg\\rvert & \\bigg\\rvert &  & \\bigg\\rvert\n",
        "\\end{bmatrix}\n",
        "\\end{aligned}\n",
        "$$\n",
        "\n",
        "Um detalhe que devemos sempre nos atentar diz respeito à dimensionalidade. Tenha em mente que $X \\in \\rm I\\!R^{n_x \\ \\times \\ m}$, o que pode ser verificado diretamente no código checando o atributo do *array* com `X.shape` $= (n_x, m)$.\n",
        "\n",
        "Convenientemente, para facilitar implementações e operações matriciais, usaremos um vetor horizontal $y$ contendo os *outputs labels*.\n",
        "\n",
        "$$\n",
        "\\begin{equation}\n",
        "\\begin{aligned}\n",
        "Y&=\n",
        "    \\begin{bmatrix}\n",
        "        y^{(1)}, y^{(1)}, \\dots, y^{(m)}\n",
        "    \\end{bmatrix} \n",
        "\\end{aligned}\n",
        "\\end{equation}\n",
        "$$\n",
        "\n",
        "Em relação à dimensionalidade do vetor, temos que $Y \\in \\rm I\\!R^{1 \\ \\times \\ m}$, o que pode ser verificado diretamente no código checando `Y.shape` $= (1, m)$."
      ]
    },
    {
      "cell_type": "markdown",
      "metadata": {
        "id": "qrAA3Pj4MKEM",
        "colab_type": "text"
      },
      "source": [
        "## Classificador Linear: Das Imagens para os *Labels*\n",
        "\n",
        "Dentro do campo de *machine learning* (ML), temos uma classe de problemas conhecida como classificação estatística. Um classificador linear consegue tomar a decisão de classificar um determinado objeto mediante combinação linear das suas características (*features*).\n",
        "\n",
        "Nesta seção, eu irei falar sobre Regressão Logística, um algoritmo de ML amplamente usado para classificação em problemas de aprendizado supervisionado.\n",
        "\n",
        "### Regressão Logística\n",
        "\n",
        "\n",
        "No exemplo de identificar se nossa foto é um avião ou não, temos um problema de classificação binária onde você recebe um vetor $x \\in \\rm I\\!R^{n_x}$ contendo as *features* (os *pixels* da imagem) e o algoritmo de Regressão Logística retorna a probabilidade $\\hat{y} = P(y=1 | x)$ de ser um avião.\n",
        "\n",
        "Para entender o algoritmo GD, precisamos entrar em dois conceitos-chaves:\n",
        "\n",
        "1. *Score Function*\n",
        "2. *Cost Function*\n",
        "\n",
        "#### 1. *Score Function*\n",
        "\n",
        "*Machine learning*, ou aprendizado de máquina é o nosso campo de estudo. O \"*learning*\" significa que de alguma maneira o computador é capaz de aprender. Essa maneira é por meio da otimização dos parâmetros $\\theta \\in \\rm I\\!R^{n_x}$ e $b \\in \\rm I\\!R$.\n",
        "\n",
        "A *score function* é uma função que vai receber o nosso *input* (no exemplo usado aqui, uma imagem) e mapear os dados para as classes de *labels*. A função mais simples possível para fazer isso é o **mapeamento linear**:\n",
        "\n",
        "$$\n",
        "f(x, \\theta, b) = \\hat{y} = \\theta^Tx + b\n",
        "$$\n",
        "\n",
        "**Uma pausa.**\n",
        "\n",
        "Lembra que estamos falando de classificação de imagens, e da probabilidade dessa imagem ser um avião ou não?\n",
        "\n",
        "O problema é que a nossa *score function*, do jeito que está, pode retornar qualquer valor. Só que se eu espero obter uma probabilidade como *output*, é esperado que $0 \\leq \\hat{y} \\leq 1$.\n",
        "\n",
        "Uma das maneiras de fazer isso é usando uma função de ativação conhecida como **função sigmóide**.\n",
        "\n",
        "$$\n",
        "\\sigma(z) = \\frac{1}{1 + e^{-z}}\n",
        "$$"
      ]
    },
    {
      "cell_type": "code",
      "metadata": {
        "id": "bG-vzlQ3MJ6h",
        "colab_type": "code",
        "outputId": "67e0ae0d-ae21-4dfa-8598-8668dc504361",
        "colab": {
          "base_uri": "https://localhost:8080/",
          "height": 265
        }
      },
      "source": [
        "# importar pacotes necessários\n",
        "import numpy as np\n",
        "import matplotlib.pyplot as plt\n",
        "\n",
        "# criar um set entre -10 e 10 e aplicar a função sigmóide\n",
        "x = np.arange(-10, 10)\n",
        "y = 1 / (1 + np.exp(-x))\n",
        "\n",
        "# plotar a curva sigmoidal\n",
        "plt.plot(x, y)\n",
        "plt.vlines(0, 0, 1, colors='r', linestyles='dashed')\n",
        "plt.show()"
      ],
      "execution_count": 0,
      "outputs": [
        {
          "output_type": "display_data",
          "data": {
            "image/png": "[encoded data removed]",
            "text/plain": [
              "<Figure size 432x288 with 1 Axes>"
            ]
          },
          "metadata": {
            "tags": []
          }
        }
      ]
    },
    {
      "cell_type": "markdown",
      "metadata": {
        "id": "vmZqgr2XX36k",
        "colab_type": "text"
      },
      "source": [
        "Em suma, o *output* que queremos estará no formato \n",
        "\n",
        "$$\\hat{y} = \\sigma(\\theta^Tx + b) = \\frac{1}{1 + e^{-(\\theta^Tx + b)}}$$\n",
        "\n",
        "\n",
        "Como estamos falando de NN (*feedforward neural networks*, mais especificamente), o nosso objetivo é aproximar essa função $f(x, \\theta, b) = f^{*}(x, \\theta, b)$. Isso significa que durante a fase de treinamento nós conduzimos $f(x, \\theta, b)$ para equiparar $f^{*}(x, \\theta, b)$.\n",
        "\n",
        "Voltando a função de ativação, utilizamos a mesma para (1) inserir não-lineariedade no problema e (2) gerar probabilidade para um problema de classificação binária.\n",
        "\n",
        "Utilizando a função de ativação aplicada na *score function*, ou seja $\\sigma( \\theta^T x + b)$, conseguiremos mapear qualquer valor para dentro do intervalo $0 \\leq \\hat{y} \\leq 1$. Veja um exemplo de onde usamos essa teoria para prever se uma imagem é um avião ou não.\n",
        "\n",
        "<p align=\"center\">\n",
        "<img height=\"350\" src=\"https://raw.githubusercontent.com/carlosfab/escola-data-science/master/img/passe-nn.png\">\n",
        "</p>\n",
        "\n",
        "As etapas ilustradas na imagem acima são:\n",
        "\n",
        "1. Transformar a imagem em um vetor.\n",
        "2. Multiplicar o valor de cada pixel de $x$ por um peso de $w$.\n",
        "3. Obter o valor de $z = w^T x + b$.\n",
        "4. Obter a probabilidade $\\hat{y} = P(y=1 | x)$ de ser um avião. Ou seja, obter o valor de $\\hat{y} = \\sigma(z)$.\n",
        "5. Classificar a imagem com o label `avião` ($0.91 \\gt 0.5)$."
      ]
    },
    {
      "cell_type": "markdown",
      "metadata": {
        "id": "UMvjlUbled9V",
        "colab_type": "text"
      },
      "source": [
        "## Visualizando uma imagem\n",
        "\n",
        "Para mostrar os *pixels* de uma imagem, vamos importar um exemplo com o OpenCV e ver o *array* que representa a intensidade de cada um."
      ]
    },
    {
      "cell_type": "code",
      "metadata": {
        "id": "4KXAkw9L7S-T",
        "colab_type": "code",
        "colab": {}
      },
      "source": [
        "# importar o OpenCV\n",
        "import cv2"
      ],
      "execution_count": 0,
      "outputs": []
    },
    {
      "cell_type": "code",
      "metadata": {
        "id": "FFU5oyYONcYg",
        "colab_type": "code",
        "outputId": "8fc70f55-99f7-45b9-eba8-bf84875c28f7",
        "colab": {
          "base_uri": "https://localhost:8080/",
          "height": 233
        }
      },
      "source": [
        "# baixar uma imagem de exemplo\n",
        "!wget https://raw.githubusercontent.com/carlosfab/escola-data-science/master/img/aviao_64x64.jpg\n",
        "!ls"
      ],
      "execution_count": 0,
      "outputs": [
        {
          "output_type": "stream",
          "text": [
            "--2020-03-28 08:45:48--  https://raw.githubusercontent.com/carlosfab/escola-data-science/master/img/aviao_64x64.jpg\n",
            "Resolving raw.githubusercontent.com (raw.githubusercontent.com)... 151.101.0.133, 151.101.64.133, 151.101.128.133, ...\n",
            "Connecting to raw.githubusercontent.com (raw.githubusercontent.com)|151.101.0.133|:443... connected.\n",
            "HTTP request sent, awaiting response... 200 OK\n",
            "Length: 14272 (14K) [image/jpeg]\n",
            "Saving to: ‘aviao_64x64.jpg’\n",
            "\n",
            "aviao_64x64.jpg     100%[===================>]  13.94K  --.-KB/s    in 0.01s   \n",
            "\n",
            "2020-03-28 08:45:53 (1.15 MB/s) - ‘aviao_64x64.jpg’ saved [14272/14272]\n",
            "\n",
            "aviao_64x64.jpg  sample_data\n"
          ],
          "name": "stdout"
        }
      ]
    },
    {
      "cell_type": "code",
      "metadata": {
        "id": "2rOM869r7S02",
        "colab_type": "code",
        "colab": {}
      },
      "source": [
        "# ler a imagem usando o OpenCV\n",
        "img = cv2.imread(\"aviao_64x64.jpg\")"
      ],
      "execution_count": 0,
      "outputs": []
    },
    {
      "cell_type": "code",
      "metadata": {
        "id": "LhET5mbf7StH",
        "colab_type": "code",
        "outputId": "ddd4fe47-5c59-4cca-8a26-0c3dee88842a",
        "colab": {
          "base_uri": "https://localhost:8080/",
          "height": 35
        }
      },
      "source": [
        "# ver suas dimensões\n",
        "img.shape"
      ],
      "execution_count": 0,
      "outputs": [
        {
          "output_type": "execute_result",
          "data": {
            "text/plain": [
              "(64, 64, 3)"
            ]
          },
          "metadata": {
            "tags": []
          },
          "execution_count": 5
        }
      ]
    },
    {
      "cell_type": "code",
      "metadata": {
        "id": "XgoLIoQvNvCP",
        "colab_type": "code",
        "outputId": "96f2c85d-4e34-4c0a-aea9-bc9de1f23b41",
        "colab": {
          "base_uri": "https://localhost:8080/",
          "height": 268
        }
      },
      "source": [
        "# plotar a imagem usando o `matplotlib`\n",
        "plt.imshow(cv2.cvtColor(img, cv2.COLOR_BGR2RGB))\n",
        "plt.show()"
      ],
      "execution_count": 0,
      "outputs": [
        {
          "output_type": "display_data",
          "data": {
            "image/png": "[encoded data removed]",
            "text/plain": [
              "<Figure size 432x288 with 1 Axes>"
            ]
          },
          "metadata": {
            "tags": []
          }
        }
      ]
    },
    {
      "cell_type": "markdown",
      "metadata": {
        "id": "cE31rpw0JpsH",
        "colab_type": "text"
      },
      "source": [
        "#### **Referências**\n",
        "\n",
        "*Goodfellow, I.; Bengio, Y.; Courville, A. **Deep Learning**. MIT Press, 2016.*"
      ]
    }
  ]
}