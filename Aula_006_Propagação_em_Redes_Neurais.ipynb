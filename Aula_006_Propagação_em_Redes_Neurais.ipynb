{
  "nbformat": 4,
  "nbformat_minor": 0,
  "metadata": {
    "colab": {
      "name": "Aula 006 - Propagação em Redes Neurais.ipynb",
      "provenance": [],
      "collapsed_sections": []
    },
    "kernelspec": {
      "name": "python3",
      "display_name": "Python 3"
    }
  },
  "cells": [
    {
      "cell_type": "markdown",
      "metadata": {
        "id": "2RLjmWzTNzpU",
        "colab_type": "text"
      },
      "source": [
        "<p align=\"center\"><img src=\"https://raw.githubusercontent.com/carlosfab/escola-data-science/master/img/eds.png\" height=\"100px\"></p>\n",
        "\n",
        "# Aula 006: Propagação em Redes Neurais (na mão!)\n",
        "\n",
        "Vimos os alicerces básicos de redes neurais e *Deep Learning*, e também um conceito-chave, a *score function*. Nesta aula, irei falar sobre o outro conceito-chave: *Cost function*.\n",
        "\n",
        "Recapitulando o que foi visto até agora, vimos que o preditor $\\hat{y}$ é obtido (neste caso) a partir da ativação de $z=w^T x + b$ pela função sigmóide. Tudo isso fica assim:\n",
        "\n",
        "$$\n",
        "\\hat{y} = \\sigma(z) = \\sigma(w^T x + b) = \\frac{1}{1 + e^{-z}}\n",
        "$$\n",
        "\n",
        "> *Note que eu substitui o símbolo $\\theta$, usado na última aula, por $w$. Estou menos preocupado com o rigor matemático e exatidão da forma que com o aprendizado efetivo.*\n",
        "\n",
        "\n",
        "Também entendemos que, dado um conjunto de amostras de treinamento $\\{ (x^{(1)}, y^{(1)}), (x^{(2)}, y^{(2)}), \\dots, (x^{(m)}, y^{(m)}) \\}$, queremos obter $\\hat{y}^{(i)} \\approx y^{(i)}$.\n",
        "\n",
        "Seguindo a notação matemática de usar o índice $i$ sobrescrito para representa a *i-nésima* amostra, pode-se generalizar;\n",
        "\n",
        "$$\n",
        "\\hat{y}^{(i)} = \\sigma(z^{(i)}) = \\frac{1}{1 + e^{-z^{(i)}}}\n",
        "$$\n",
        "\n",
        "#### 2. *Cost Function*\n",
        "\n",
        "Já sabemos usar uma função que passa nossa imagem por diversos parâmetros e que consegue classificá-la como sendo uma aeronave ou não.\n",
        "\n",
        "**Mas como saber se nosso algoritmo está indo bem?**\n",
        "\n",
        "A primeira coisa que temos que mensurar é o quão distante estamos da solução correta. \n",
        "\n",
        "Se você já trabalhou com problemas de regressão em *Machine Learning*, sabe que métricas como MSE, RMSE, entre outras, são bem populares.\n",
        "\n",
        "No entanto, este é um problema de regressão logística. Se você está mais familiarizado com Cálculo, sabe que cairíamos em um espaço de soluções não-convexo. Na prática, teríamos vários ótimos locais, fazendo com que o *Gradient Descent* não funcione bem.\n",
        "\n",
        "Para trabalhar um problema de otimização convexo, utilizamos a seguinte *Loss Function*:\n",
        "\n",
        "$\\mathcal{L}(\\hat{y}, y) = - (y \\log \\hat{y} + (1 - y)log(1 - \\hat{y}))$\n",
        "\n",
        "*Loss function* é quando aplicamos $\\mathcal{L}$ a uma amostra. \n",
        "\n",
        "***Cost Function***  é quando consideramos todo o *dataset*, e queremos obter o custo do erro das previsões: \n",
        "\n",
        "$$\n",
        "J(w, b) = \\frac{1}{m} \\sum_{i=1}^{m}\\mathcal{L}(\\hat{y}^{(i)}, y^{(i)}) \\\\\n",
        "J(w, b) = - \\frac{1}{m} \\sum_{i=1}^{m} [y^{(i)} \\log \\hat{y}^{(i)} + (1 - y^{(i)})log(1 - \\hat{y}^{(i)})]\n",
        "$$\n",
        "\n",
        "Agora somos capazes de avaliar quão boa está sendo uma previsão do nosso algoritmo.\n",
        "\n"
      ]
    },
    {
      "cell_type": "markdown",
      "metadata": {
        "id": "nkA4fyzncGN0",
        "colab_type": "text"
      },
      "source": [
        "## Propagação nas Redes Neurais\n",
        "\n",
        "Os maiores problemas de implementação de Redes Neurais na mão são os conflitos de dimensionalidade. Agora quero que você preste muita atenção em uma coisa.\n",
        "\n",
        "**Não tem para onde correr.**\n",
        "\n",
        "Se você quer evoluir em *Deep Learning*, tem que passar a gostar de matemática. Caso contrário, sera um eterno usuário de coisas prontas, sem a mínima ideia do que está fazendo.\n",
        "\n",
        "Para entender como as dimensões das matrizes interferem em operações de multiplicação, você tem que relembrar as propriedades básicas que foram passadas no ensino médio. Relembradas as propriedades básicas, recomendo fortemente investir em Álgebra Linear. \n",
        "\n",
        "Vou dar um exemplo bem simples de como o pensamento algébrico facilita muito o seu trabalho (além de ser mais eficiente).\n",
        "\n",
        "---\n",
        "\n",
        "**INÍCIO DO EXEMPLO DE ÁLGEBRA LINEAR**\n",
        "\n",
        "---"
      ]
    },
    {
      "cell_type": "code",
      "metadata": {
        "id": "FAal8NOqDQC1",
        "colab_type": "code",
        "colab": {}
      },
      "source": [
        "# importa bibliotecas\n",
        "import h5py\n",
        "import numpy as np\n",
        "import matplotlib.pyplot as plt"
      ],
      "execution_count": 0,
      "outputs": []
    },
    {
      "cell_type": "code",
      "metadata": {
        "id": "310RZ6l7gV0A",
        "colab_type": "code",
        "colab": {}
      },
      "source": [
        "# Exemplo de vetorização\n",
        "# Quantidades de itens comprados pro 3 clientes\n",
        "compras = np.array([[1, 2, 3],\n",
        "                    [0, 3, 1],\n",
        "                    [0, 0, 2]])\n",
        "\n",
        "preco = np.array([10, 20, 100]).reshape(1, -1)"
      ],
      "execution_count": 0,
      "outputs": []
    },
    {
      "cell_type": "code",
      "metadata": {
        "id": "Oii77eqZhb4-",
        "colab_type": "code",
        "outputId": "48a1e3ca-39fd-4e22-b78b-5bc5f9207302",
        "colab": {
          "base_uri": "https://localhost:8080/",
          "height": 341
        }
      },
      "source": [
        "# Resolvendo usando for loops\n",
        "for i, _ in enumerate(compras):\n",
        "    total = 0\n",
        "    print(\"Cliente {}\".format(i))\n",
        "\n",
        "    for j, _ in enumerate(compras):\n",
        "        total += compras[i][j] * preco[0][j]\n",
        "        print(compras[i][j], \"*\", preco[0][j], \"=\", compras[i][j] * preco[0][j])\n",
        "    \n",
        "    print(\"Total: {}\".format(total), \"\\n\")"
      ],
      "execution_count": 0,
      "outputs": [
        {
          "output_type": "stream",
          "text": [
            "Cliente 0\n",
            "1 * 10 = 10\n",
            "2 * 20 = 40\n",
            "3 * 100 = 300\n",
            "Total: 350 \n",
            "\n",
            "Cliente 1\n",
            "0 * 10 = 0\n",
            "3 * 20 = 60\n",
            "1 * 100 = 100\n",
            "Total: 160 \n",
            "\n",
            "Cliente 2\n",
            "0 * 10 = 0\n",
            "0 * 20 = 0\n",
            "2 * 100 = 200\n",
            "Total: 200 \n",
            "\n"
          ],
          "name": "stdout"
        }
      ]
    },
    {
      "cell_type": "code",
      "metadata": {
        "id": "0OTl2LPogVfz",
        "colab_type": "code",
        "outputId": "d591c6f2-3675-43a7-af06-c0f539af38ef",
        "colab": {
          "base_uri": "https://localhost:8080/",
          "height": 71
        }
      },
      "source": [
        "# Resolvendo com Algebra Linear\n",
        "# ver as compras por itens e clientes\n",
        "compras * preco"
      ],
      "execution_count": 0,
      "outputs": [
        {
          "output_type": "execute_result",
          "data": {
            "text/plain": [
              "array([[ 10,  40, 300],\n",
              "       [  0,  60, 100],\n",
              "       [  0,   0, 200]])"
            ]
          },
          "metadata": {
            "tags": []
          },
          "execution_count": 74
        }
      ]
    },
    {
      "cell_type": "code",
      "metadata": {
        "id": "j3_rzFSOhADt",
        "colab_type": "code",
        "outputId": "76c5b978-6b06-48ee-f5af-00b17b34861d",
        "colab": {
          "base_uri": "https://localhost:8080/",
          "height": 35
        }
      },
      "source": [
        "# ver quanto cada cliente gastou\n",
        "np.dot(preco, compras.T)"
      ],
      "execution_count": 0,
      "outputs": [
        {
          "output_type": "execute_result",
          "data": {
            "text/plain": [
              "array([[350, 160, 200]])"
            ]
          },
          "metadata": {
            "tags": []
          },
          "execution_count": 75
        }
      ]
    },
    {
      "cell_type": "markdown",
      "metadata": {
        "id": "skmcvWSklSa7",
        "colab_type": "text"
      },
      "source": [
        "---\n",
        "\n",
        "**FIM DO EXEMPLO DE ÁLGEBRA LINEAR**\n",
        "\n",
        "---"
      ]
    },
    {
      "cell_type": "markdown",
      "metadata": {
        "id": "yDlI_DEwboMK",
        "colab_type": "text"
      },
      "source": [
        "## *Forward Propagation*\n",
        "\n",
        "Antes de falarmos em aprendizado, quero dividir o fluxo que acontece dentro das redes em duas etapas distintas:\n",
        "\n",
        "1. *Forward Propagation*\n",
        "2. *Backward Propagation*\n",
        "\n",
        "Nesta Aula 006 nós iremos tratar da propagação, a *forward propagation*. Numa explicação prática, entenda como o caminho de ida.\n",
        "\n",
        "**Etapas da *forward propagation***\n",
        "1. Padronizar as dimensões de `X` e `y`\n",
        "2. Inicializar os parâmetros `w` e `b`\n",
        "3. Calcular $z = w^T x + b$\n",
        "4. Calcular $\\sigma(-z) = \\frac{1}{1 + e^{(-z)}}$\n",
        "5. Calcular $J(w, b) = - \\frac{1}{m} \\sum_{i=1}^{m} [y^{(i)} \\log \\hat{y}^{(i)} + (1 - y^{(i)})log(1 - \\hat{y}^{(i)})]$\n",
        "\n",
        "Para simplificar ao máximo a implementação, usarei um *dataset* de imagens de gatos bem simplificado, disponibilizado por Andrew Ng em sua especialização."
      ]
    },
    {
      "cell_type": "code",
      "metadata": {
        "id": "cOxmbBkvGTBc",
        "colab_type": "code",
        "colab": {}
      },
      "source": [
        "# download do dataset cat vs non-cat\n",
        "!wget -q https://raw.githubusercontent.com/carlosfab/escola-data-science/master/datasets/catvsnoncat/train_catvnoncat.h5\n",
        "!wget -q https://raw.githubusercontent.com/carlosfab/escola-data-science/master/datasets/catvsnoncat/test_catvnoncat.h5\n",
        "\n",
        "# Importar os dados do arquivo .h5\n",
        "train_dataset = h5py.File('train_catvnoncat.h5', 'r')\n",
        "test_dataset = h5py.File('test_catvnoncat.h5', 'r')\n",
        "\n",
        "# dados de treino\n",
        "train_x = np.array(train_dataset['train_set_x'][:])\n",
        "train_y = np.array(train_dataset['train_set_y'][:])\n",
        "\n",
        "# dados de teste\n",
        "test_x = np.array(test_dataset['test_set_x'][:])\n",
        "test_y = np.array(test_dataset['test_set_y'][:])"
      ],
      "execution_count": 0,
      "outputs": []
    },
    {
      "cell_type": "markdown",
      "metadata": {
        "id": "FaI7vUrPsamh",
        "colab_type": "text"
      },
      "source": [
        "Para ver como o *dataset* está composto, vamos dar uma olhadinha em duas amostras, uma de cada classe:\n",
        "\n",
        "* Cat\n",
        "* Non-Cat"
      ]
    },
    {
      "cell_type": "code",
      "metadata": {
        "id": "YCRe5TAuJIce",
        "colab_type": "code",
        "outputId": "1dfcc133-29da-4546-ed00-65d43f409822",
        "colab": {
          "base_uri": "https://localhost:8080/",
          "height": 519
        }
      },
      "source": [
        "# ver o exemplo de uma imagem cat vs non-cat\n",
        "idx_cat = np.where(train_y == 1)[0][0]\n",
        "idx_noncat = np.where(train_y == 0)[0][0]\n",
        "\n",
        "plt.imshow(train_x[idx_cat])\n",
        "plt.show()\n",
        "plt.imshow(train_x[idx_noncat])\n",
        "plt.show()"
      ],
      "execution_count": 0,
      "outputs": [
        {
          "output_type": "display_data",
          "data": {
            "image/png": "[encoded data removed]",
            "text/plain": [
              "<Figure size 432x288 with 1 Axes>"
            ]
          },
          "metadata": {
            "tags": []
          }
        },
        {
          "output_type": "display_data",
          "data": {
            "image/png": "[encoded data removed]",
            "text/plain": [
              "<Figure size 432x288 with 1 Axes>"
            ]
          },
          "metadata": {
            "tags": []
          }
        }
      ]
    },
    {
      "cell_type": "markdown",
      "metadata": {
        "id": "kMoAcu96UNnT",
        "colab_type": "text"
      },
      "source": [
        "Como já falamos, um problema comum é as pessoas não se atentarem à dimensionalidade das variáveis. Vamos dar uma olhada nas definições da próxima aula e notar como o *output* da próxima célula acima não está adequado para `y` (tanto para o treino quanto para o teste).\n",
        "\n",
        "<p align=\"center\">\n",
        "<img height=\"250\" src=\"https://raw.githubusercontent.com/carlosfab/escola-data-science/master/img/resumo-aula006.png\">\n",
        "</p>"
      ]
    },
    {
      "cell_type": "code",
      "metadata": {
        "id": "2DvUhu0nJAE4",
        "colab_type": "code",
        "outputId": "45020505-c36c-403e-e9c8-00733777789b",
        "colab": {
          "base_uri": "https://localhost:8080/",
          "height": 89
        }
      },
      "source": [
        "# ver a dimensionalidade dos nossos dados de treino e teste\n",
        "for _, j in enumerate([train_x, train_y, test_x, test_y]):\n",
        "    print(j.shape)"
      ],
      "execution_count": 0,
      "outputs": [
        {
          "output_type": "stream",
          "text": [
            "(209, 64, 64, 3)\n",
            "(209,)\n",
            "(50, 64, 64, 3)\n",
            "(50,)\n"
          ],
          "name": "stdout"
        }
      ]
    },
    {
      "cell_type": "code",
      "metadata": {
        "id": "GYOtJ1U_UTbQ",
        "colab_type": "code",
        "outputId": "926487ed-dfe8-48b0-e672-0096700b829b",
        "colab": {
          "base_uri": "https://localhost:8080/",
          "height": 35
        }
      },
      "source": [
        "# shape original\n",
        "train_y.shape"
      ],
      "execution_count": 0,
      "outputs": [
        {
          "output_type": "execute_result",
          "data": {
            "text/plain": [
              "(209,)"
            ]
          },
          "metadata": {
            "tags": []
          },
          "execution_count": 79
        }
      ]
    },
    {
      "cell_type": "code",
      "metadata": {
        "id": "CXP16WlDUTRl",
        "colab_type": "code",
        "outputId": "84951462-e3b8-4327-f9b3-5277c1cd2c16",
        "colab": {
          "base_uri": "https://localhost:8080/",
          "height": 35
        }
      },
      "source": [
        "# novo shape\n",
        "train_y.reshape(1, train_y.shape[0]).shape"
      ],
      "execution_count": 0,
      "outputs": [
        {
          "output_type": "execute_result",
          "data": {
            "text/plain": [
              "(1, 209)"
            ]
          },
          "metadata": {
            "tags": []
          },
          "execution_count": 80
        }
      ]
    },
    {
      "cell_type": "code",
      "metadata": {
        "id": "Yxzn6x2hWSTl",
        "colab_type": "code",
        "colab": {}
      },
      "source": [
        "# reshape nas variáveis\n",
        "train_y = train_y.reshape(1, train_y.shape[0])\n",
        "test_y = test_y.reshape(1, test_y.shape[0])"
      ],
      "execution_count": 0,
      "outputs": []
    },
    {
      "cell_type": "markdown",
      "metadata": {
        "id": "bQuILlVzRbJX",
        "colab_type": "text"
      },
      "source": [
        "Identificando as demais dimensionalidades"
      ]
    },
    {
      "cell_type": "code",
      "metadata": {
        "id": "vd9t8qnRJKiP",
        "colab_type": "code",
        "outputId": "ad2e018a-c57a-4aff-c346-f0733f940a01",
        "colab": {
          "base_uri": "https://localhost:8080/",
          "height": 71
        }
      },
      "source": [
        "m_train = train_x.shape[0]\n",
        "m_test = test_x.shape[0]\n",
        "num_pixels = train_x.shape[1]\n",
        "img_shape = (train_x.shape[1], train_x.shape[2], train_x.shape[3])\n",
        "\n",
        "print(\"Amostras de treinamento: m_train: {}\".format(m_train))\n",
        "print(\"Amostras de teste: m_test: {}\".format(m_test))\n",
        "print(\"Dimensionalidade das imagens: {}\".format(img_shape))"
      ],
      "execution_count": 0,
      "outputs": [
        {
          "output_type": "stream",
          "text": [
            "Amostras de treinamento: m_train: 209\n",
            "Amostras de teste: m_test: 50\n",
            "Dimensionalidade das imagens: (64, 64, 3)\n"
          ],
          "name": "stdout"
        }
      ]
    },
    {
      "cell_type": "markdown",
      "metadata": {
        "id": "FdiDfVY6Lva2",
        "colab_type": "text"
      },
      "source": [
        "Para alimentar corretamente o modelo, devemos achatar cada imagem individual. De `(64, 64, 3)`, devemos dar um `reshape` para `(64 *  64 * 3, 1) = (12288, 1)`.\n",
        "\n",
        "Não esqueça que não temos apenas uma imagem, mas várias dela. O nosso `reshape` deve levar em consideração que cada coluna representará uma imagem \"achatada\".\n",
        "\n",
        "> *Para reshape do tipo `(m, h, w, c)` em `(h * w * c, m)`, use o `reshape` da seguinte maneira.*"
      ]
    },
    {
      "cell_type": "code",
      "metadata": {
        "id": "UO423prQMUKH",
        "colab_type": "code",
        "outputId": "09b4a26f-96e6-436f-e7c9-19a7aac9ec6d",
        "colab": {
          "base_uri": "https://localhost:8080/",
          "height": 35
        }
      },
      "source": [
        "# shape original\n",
        "train_x.shape"
      ],
      "execution_count": 0,
      "outputs": [
        {
          "output_type": "execute_result",
          "data": {
            "text/plain": [
              "(209, 64, 64, 3)"
            ]
          },
          "metadata": {
            "tags": []
          },
          "execution_count": 83
        }
      ]
    },
    {
      "cell_type": "code",
      "metadata": {
        "id": "hEu5saZpTcg1",
        "colab_type": "code",
        "outputId": "2ebc9b60-7b71-4a6c-82d2-baa7698e753a",
        "colab": {
          "base_uri": "https://localhost:8080/",
          "height": 35
        }
      },
      "source": [
        "# novo shape\n",
        "train_x.reshape(m_train, -1).shape"
      ],
      "execution_count": 0,
      "outputs": [
        {
          "output_type": "execute_result",
          "data": {
            "text/plain": [
              "(209, 12288)"
            ]
          },
          "metadata": {
            "tags": []
          },
          "execution_count": 84
        }
      ]
    },
    {
      "cell_type": "code",
      "metadata": {
        "id": "zIvjldgjTkNs",
        "colab_type": "code",
        "outputId": "8b1bd5dd-069b-4a4b-b305-9508ed4e1820",
        "colab": {
          "base_uri": "https://localhost:8080/",
          "height": 35
        }
      },
      "source": [
        "# novo shape transposto\n",
        "train_x.reshape(m_train, -1).T.shape  # transposta"
      ],
      "execution_count": 0,
      "outputs": [
        {
          "output_type": "execute_result",
          "data": {
            "text/plain": [
              "(12288, 209)"
            ]
          },
          "metadata": {
            "tags": []
          },
          "execution_count": 85
        }
      ]
    },
    {
      "cell_type": "code",
      "metadata": {
        "id": "kOjQZ617XZ29",
        "colab_type": "code",
        "outputId": "feadd8d2-1c53-47de-f6c5-e3615ef03ee0",
        "colab": {
          "base_uri": "https://localhost:8080/",
          "height": 89
        }
      },
      "source": [
        "# reshape nas variáveis\n",
        "\n",
        "train_x_flatten = train_x.reshape(m_train, -1).T\n",
        "test_x_flatten = test_x.reshape(m_test, -1).T\n",
        "\n",
        "print(train_x_flatten.shape)\n",
        "print(train_y.shape)\n",
        "print(test_x_flatten.shape)\n",
        "print(test_y.shape)"
      ],
      "execution_count": 0,
      "outputs": [
        {
          "output_type": "stream",
          "text": [
            "(12288, 209)\n",
            "(1, 209)\n",
            "(12288, 50)\n",
            "(1, 50)\n"
          ],
          "name": "stdout"
        }
      ]
    },
    {
      "cell_type": "code",
      "metadata": {
        "id": "aSR9wh2IX7Um",
        "colab_type": "code",
        "colab": {}
      },
      "source": [
        "# padronizar os inputs\n",
        "train_x_clean = train_x_flatten / 255.\n",
        "test_y_clean = test_x_flatten / 255."
      ],
      "execution_count": 0,
      "outputs": []
    },
    {
      "cell_type": "markdown",
      "metadata": {
        "id": "VBDvl9SGYOHT",
        "colab_type": "text"
      },
      "source": [
        "### Propagação na Prática"
      ]
    },
    {
      "cell_type": "code",
      "metadata": {
        "id": "2IFEJASBbGZP",
        "colab_type": "code",
        "colab": {}
      },
      "source": [
        "def propagate(X, Y):\n",
        "\n",
        "    m = X.shape[1]\n",
        "\n",
        "    w = np.zeros((X.shape[0], 1))\n",
        "    b = 0\n",
        "    \n",
        "    z = np.dot(w.T, X) + b\n",
        "    A = 1 / (1 + np.exp(-z))\n",
        "    cost = (-1 / m) * np.sum(Y * np.log(A) + (1 - Y) * (np.log(1 - A)))\n",
        "\n",
        "    return cost\n",
        "    "
      ],
      "execution_count": 0,
      "outputs": []
    },
    {
      "cell_type": "code",
      "metadata": {
        "colab_type": "code",
        "outputId": "6bb12e0d-106d-4902-e7d2-905c2fe82763",
        "id": "cS8V4chn-glX",
        "colab": {
          "base_uri": "https://localhost:8080/",
          "height": 35
        }
      },
      "source": [
        "w, b, X, Y = np.array([[1], [2]]), 2, np.array([[1,2], [3,4]]), np.array([[1, 0]])\n",
        "cost = propagate(X, Y)\n",
        "print (\"cost =\", cost)"
      ],
      "execution_count": 0,
      "outputs": [
        {
          "output_type": "stream",
          "text": [
            "cost = 0.6931471805599453\n"
          ],
          "name": "stdout"
        }
      ]
    }
  ]
}